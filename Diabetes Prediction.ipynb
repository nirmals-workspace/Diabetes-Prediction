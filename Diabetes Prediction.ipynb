{
 "cells": [
  {
   "cell_type": "markdown",
   "id": "e51710c3",
   "metadata": {},
   "source": [
    "# Diabetes Prediction"
   ]
  },
  {
   "cell_type": "markdown",
   "id": "7f9e196f",
   "metadata": {},
   "source": [
    "### My Understanding of Problem Statement:\n",
    "\n",
    "- From a given diabetes dataset, we have to build a model which should be able to predict whether or not a person has diabetes.\\\n",
    "- From a brief overview of dataset we have features like pregnancies, glucose level, BP level, Insulin level, patient's BMI among other features which should rightly enable us to predict whether or not a person has diabetes.\n",
    "- So, upfront we are going to do diabetes prediction and it's going to be a supervised classification problem with binary outcome.\n",
    "\n",
    "Let's get started..."
   ]
  },
  {
   "cell_type": "markdown",
   "id": "c2347341",
   "metadata": {},
   "source": [
    "## Importing Dependencies"
   ]
  },
  {
   "cell_type": "code",
   "execution_count": 1,
   "id": "ba6f93dc",
   "metadata": {},
   "outputs": [],
   "source": [
    "from sklearn.metrics import accuracy_score, f1_score, confusion_matrix, classification_report\n",
    "from sklearn.ensemble import RandomForestClassifier, AdaBoostClassifier, GradientBoostingClassifier, HistGradientBoostingClassifier\n",
    "from imblearn.over_sampling import RandomOverSampler, SMOTE\n",
    "from imblearn.under_sampling import RandomUnderSampler\n",
    "from sklearn.model_selection import train_test_split\n",
    "from sklearn.linear_model import LogisticRegression\n",
    "from sklearn.neighbors import KNeighborsClassifier\n",
    "from sklearn.preprocessing import StandardScaler\n",
    "from sklearn.model_selection import GridSearchCV\n",
    "from sklearn.tree import DecisionTreeClassifier\n",
    "from imblearn.over_sampling import SMOTE\n",
    "from scipy.stats import chi2_contingency\n",
    "from warnings import filterwarnings\n",
    "from xgboost import XGBClassifier\n",
    "import matplotlib.pyplot as plt\n",
    "from sklearn.svm import SVC\n",
    "import seaborn as sns\n",
    "import pandas as pd\n",
    "import numpy as np\n",
    "\n",
    "\n",
    "\n",
    "pd.pandas.set_option('display.max_columns',None)\n",
    "sns.set_theme()\n",
    "filterwarnings('ignore')\n",
    "%matplotlib inline"
   ]
  },
  {
   "cell_type": "markdown",
   "id": "46ccccab",
   "metadata": {},
   "source": [
    "## Understanding the dataset and addressing inconsistencies if any"
   ]
  },
  {
   "cell_type": "code",
   "execution_count": 2,
   "id": "bfd9a49c",
   "metadata": {},
   "outputs": [
    {
     "data": {
      "text/html": [
       "<div>\n",
       "<style scoped>\n",
       "    .dataframe tbody tr th:only-of-type {\n",
       "        vertical-align: middle;\n",
       "    }\n",
       "\n",
       "    .dataframe tbody tr th {\n",
       "        vertical-align: top;\n",
       "    }\n",
       "\n",
       "    .dataframe thead th {\n",
       "        text-align: right;\n",
       "    }\n",
       "</style>\n",
       "<table border=\"1\" class=\"dataframe\">\n",
       "  <thead>\n",
       "    <tr style=\"text-align: right;\">\n",
       "      <th></th>\n",
       "      <th>Pregnancies</th>\n",
       "      <th>Glucose</th>\n",
       "      <th>BloodPressure</th>\n",
       "      <th>SkinThickness</th>\n",
       "      <th>Insulin</th>\n",
       "      <th>BMI</th>\n",
       "      <th>DiabetesPedigreeFunction</th>\n",
       "      <th>Age</th>\n",
       "      <th>Outcome</th>\n",
       "    </tr>\n",
       "  </thead>\n",
       "  <tbody>\n",
       "    <tr>\n",
       "      <th>0</th>\n",
       "      <td>6</td>\n",
       "      <td>148</td>\n",
       "      <td>72</td>\n",
       "      <td>35</td>\n",
       "      <td>0</td>\n",
       "      <td>33.6</td>\n",
       "      <td>0.627</td>\n",
       "      <td>50</td>\n",
       "      <td>1</td>\n",
       "    </tr>\n",
       "    <tr>\n",
       "      <th>1</th>\n",
       "      <td>1</td>\n",
       "      <td>85</td>\n",
       "      <td>66</td>\n",
       "      <td>29</td>\n",
       "      <td>0</td>\n",
       "      <td>26.6</td>\n",
       "      <td>0.351</td>\n",
       "      <td>31</td>\n",
       "      <td>0</td>\n",
       "    </tr>\n",
       "    <tr>\n",
       "      <th>2</th>\n",
       "      <td>8</td>\n",
       "      <td>183</td>\n",
       "      <td>64</td>\n",
       "      <td>0</td>\n",
       "      <td>0</td>\n",
       "      <td>23.3</td>\n",
       "      <td>0.672</td>\n",
       "      <td>32</td>\n",
       "      <td>1</td>\n",
       "    </tr>\n",
       "    <tr>\n",
       "      <th>3</th>\n",
       "      <td>1</td>\n",
       "      <td>89</td>\n",
       "      <td>66</td>\n",
       "      <td>23</td>\n",
       "      <td>94</td>\n",
       "      <td>28.1</td>\n",
       "      <td>0.167</td>\n",
       "      <td>21</td>\n",
       "      <td>0</td>\n",
       "    </tr>\n",
       "    <tr>\n",
       "      <th>4</th>\n",
       "      <td>0</td>\n",
       "      <td>137</td>\n",
       "      <td>40</td>\n",
       "      <td>35</td>\n",
       "      <td>168</td>\n",
       "      <td>43.1</td>\n",
       "      <td>2.288</td>\n",
       "      <td>33</td>\n",
       "      <td>1</td>\n",
       "    </tr>\n",
       "  </tbody>\n",
       "</table>\n",
       "</div>"
      ],
      "text/plain": [
       "   Pregnancies  Glucose  BloodPressure  SkinThickness  Insulin   BMI  \\\n",
       "0            6      148             72             35        0  33.6   \n",
       "1            1       85             66             29        0  26.6   \n",
       "2            8      183             64              0        0  23.3   \n",
       "3            1       89             66             23       94  28.1   \n",
       "4            0      137             40             35      168  43.1   \n",
       "\n",
       "   DiabetesPedigreeFunction  Age  Outcome  \n",
       "0                     0.627   50        1  \n",
       "1                     0.351   31        0  \n",
       "2                     0.672   32        1  \n",
       "3                     0.167   21        0  \n",
       "4                     2.288   33        1  "
      ]
     },
     "execution_count": 2,
     "metadata": {},
     "output_type": "execute_result"
    }
   ],
   "source": [
    "df = pd.read_csv('diabetes.csv')\n",
    "df.head()"
   ]
  },
  {
   "cell_type": "code",
   "execution_count": 3,
   "id": "aa92b47a",
   "metadata": {},
   "outputs": [
    {
     "name": "stdout",
     "output_type": "stream",
     "text": [
      "<class 'pandas.core.frame.DataFrame'>\n",
      "RangeIndex: 768 entries, 0 to 767\n",
      "Data columns (total 9 columns):\n",
      " #   Column                    Non-Null Count  Dtype  \n",
      "---  ------                    --------------  -----  \n",
      " 0   Pregnancies               768 non-null    int64  \n",
      " 1   Glucose                   768 non-null    int64  \n",
      " 2   BloodPressure             768 non-null    int64  \n",
      " 3   SkinThickness             768 non-null    int64  \n",
      " 4   Insulin                   768 non-null    int64  \n",
      " 5   BMI                       768 non-null    float64\n",
      " 6   DiabetesPedigreeFunction  768 non-null    float64\n",
      " 7   Age                       768 non-null    int64  \n",
      " 8   Outcome                   768 non-null    int64  \n",
      "dtypes: float64(2), int64(7)\n",
      "memory usage: 54.1 KB\n"
     ]
    }
   ],
   "source": [
    "df.info()"
   ]
  },
  {
   "cell_type": "code",
   "execution_count": 4,
   "id": "b6cb2dcd",
   "metadata": {},
   "outputs": [
    {
     "data": {
      "text/plain": [
       "Pregnancies                 0\n",
       "Glucose                     0\n",
       "BloodPressure               0\n",
       "SkinThickness               0\n",
       "Insulin                     0\n",
       "BMI                         0\n",
       "DiabetesPedigreeFunction    0\n",
       "Age                         0\n",
       "Outcome                     0\n",
       "dtype: int64"
      ]
     },
     "execution_count": 4,
     "metadata": {},
     "output_type": "execute_result"
    }
   ],
   "source": [
    "df.isnull().sum()"
   ]
  },
  {
   "cell_type": "code",
   "execution_count": 5,
   "id": "d54a71c0",
   "metadata": {},
   "outputs": [
    {
     "data": {
      "text/plain": [
       "0"
      ]
     },
     "execution_count": 5,
     "metadata": {},
     "output_type": "execute_result"
    }
   ],
   "source": [
    "df.duplicated().sum()"
   ]
  },
  {
   "cell_type": "code",
   "execution_count": 6,
   "id": "e13d8d7c",
   "metadata": {},
   "outputs": [
    {
     "data": {
      "text/plain": [
       "0"
      ]
     },
     "execution_count": 6,
     "metadata": {},
     "output_type": "execute_result"
    }
   ],
   "source": [
    "df.index.duplicated().sum()"
   ]
  },
  {
   "cell_type": "code",
   "execution_count": 7,
   "id": "ee1ee8f2",
   "metadata": {},
   "outputs": [
    {
     "data": {
      "text/html": [
       "<div>\n",
       "<style scoped>\n",
       "    .dataframe tbody tr th:only-of-type {\n",
       "        vertical-align: middle;\n",
       "    }\n",
       "\n",
       "    .dataframe tbody tr th {\n",
       "        vertical-align: top;\n",
       "    }\n",
       "\n",
       "    .dataframe thead th {\n",
       "        text-align: right;\n",
       "    }\n",
       "</style>\n",
       "<table border=\"1\" class=\"dataframe\">\n",
       "  <thead>\n",
       "    <tr style=\"text-align: right;\">\n",
       "      <th></th>\n",
       "      <th>Pregnancies</th>\n",
       "      <th>Glucose</th>\n",
       "      <th>BloodPressure</th>\n",
       "      <th>SkinThickness</th>\n",
       "      <th>Insulin</th>\n",
       "      <th>BMI</th>\n",
       "      <th>DiabetesPedigreeFunction</th>\n",
       "      <th>Age</th>\n",
       "      <th>Outcome</th>\n",
       "    </tr>\n",
       "  </thead>\n",
       "  <tbody>\n",
       "    <tr>\n",
       "      <th>count</th>\n",
       "      <td>768.000000</td>\n",
       "      <td>768.000000</td>\n",
       "      <td>768.000000</td>\n",
       "      <td>768.000000</td>\n",
       "      <td>768.000000</td>\n",
       "      <td>768.000000</td>\n",
       "      <td>768.000000</td>\n",
       "      <td>768.000000</td>\n",
       "      <td>768.000000</td>\n",
       "    </tr>\n",
       "    <tr>\n",
       "      <th>mean</th>\n",
       "      <td>3.845052</td>\n",
       "      <td>120.894531</td>\n",
       "      <td>69.105469</td>\n",
       "      <td>20.536458</td>\n",
       "      <td>79.799479</td>\n",
       "      <td>31.992578</td>\n",
       "      <td>0.471876</td>\n",
       "      <td>33.240885</td>\n",
       "      <td>0.348958</td>\n",
       "    </tr>\n",
       "    <tr>\n",
       "      <th>std</th>\n",
       "      <td>3.369578</td>\n",
       "      <td>31.972618</td>\n",
       "      <td>19.355807</td>\n",
       "      <td>15.952218</td>\n",
       "      <td>115.244002</td>\n",
       "      <td>7.884160</td>\n",
       "      <td>0.331329</td>\n",
       "      <td>11.760232</td>\n",
       "      <td>0.476951</td>\n",
       "    </tr>\n",
       "    <tr>\n",
       "      <th>min</th>\n",
       "      <td>0.000000</td>\n",
       "      <td>0.000000</td>\n",
       "      <td>0.000000</td>\n",
       "      <td>0.000000</td>\n",
       "      <td>0.000000</td>\n",
       "      <td>0.000000</td>\n",
       "      <td>0.078000</td>\n",
       "      <td>21.000000</td>\n",
       "      <td>0.000000</td>\n",
       "    </tr>\n",
       "    <tr>\n",
       "      <th>25%</th>\n",
       "      <td>1.000000</td>\n",
       "      <td>99.000000</td>\n",
       "      <td>62.000000</td>\n",
       "      <td>0.000000</td>\n",
       "      <td>0.000000</td>\n",
       "      <td>27.300000</td>\n",
       "      <td>0.243750</td>\n",
       "      <td>24.000000</td>\n",
       "      <td>0.000000</td>\n",
       "    </tr>\n",
       "    <tr>\n",
       "      <th>50%</th>\n",
       "      <td>3.000000</td>\n",
       "      <td>117.000000</td>\n",
       "      <td>72.000000</td>\n",
       "      <td>23.000000</td>\n",
       "      <td>30.500000</td>\n",
       "      <td>32.000000</td>\n",
       "      <td>0.372500</td>\n",
       "      <td>29.000000</td>\n",
       "      <td>0.000000</td>\n",
       "    </tr>\n",
       "    <tr>\n",
       "      <th>75%</th>\n",
       "      <td>6.000000</td>\n",
       "      <td>140.250000</td>\n",
       "      <td>80.000000</td>\n",
       "      <td>32.000000</td>\n",
       "      <td>127.250000</td>\n",
       "      <td>36.600000</td>\n",
       "      <td>0.626250</td>\n",
       "      <td>41.000000</td>\n",
       "      <td>1.000000</td>\n",
       "    </tr>\n",
       "    <tr>\n",
       "      <th>max</th>\n",
       "      <td>17.000000</td>\n",
       "      <td>199.000000</td>\n",
       "      <td>122.000000</td>\n",
       "      <td>99.000000</td>\n",
       "      <td>846.000000</td>\n",
       "      <td>67.100000</td>\n",
       "      <td>2.420000</td>\n",
       "      <td>81.000000</td>\n",
       "      <td>1.000000</td>\n",
       "    </tr>\n",
       "  </tbody>\n",
       "</table>\n",
       "</div>"
      ],
      "text/plain": [
       "       Pregnancies     Glucose  BloodPressure  SkinThickness     Insulin  \\\n",
       "count   768.000000  768.000000     768.000000     768.000000  768.000000   \n",
       "mean      3.845052  120.894531      69.105469      20.536458   79.799479   \n",
       "std       3.369578   31.972618      19.355807      15.952218  115.244002   \n",
       "min       0.000000    0.000000       0.000000       0.000000    0.000000   \n",
       "25%       1.000000   99.000000      62.000000       0.000000    0.000000   \n",
       "50%       3.000000  117.000000      72.000000      23.000000   30.500000   \n",
       "75%       6.000000  140.250000      80.000000      32.000000  127.250000   \n",
       "max      17.000000  199.000000     122.000000      99.000000  846.000000   \n",
       "\n",
       "              BMI  DiabetesPedigreeFunction         Age     Outcome  \n",
       "count  768.000000                768.000000  768.000000  768.000000  \n",
       "mean    31.992578                  0.471876   33.240885    0.348958  \n",
       "std      7.884160                  0.331329   11.760232    0.476951  \n",
       "min      0.000000                  0.078000   21.000000    0.000000  \n",
       "25%     27.300000                  0.243750   24.000000    0.000000  \n",
       "50%     32.000000                  0.372500   29.000000    0.000000  \n",
       "75%     36.600000                  0.626250   41.000000    1.000000  \n",
       "max     67.100000                  2.420000   81.000000    1.000000  "
      ]
     },
     "execution_count": 7,
     "metadata": {},
     "output_type": "execute_result"
    }
   ],
   "source": [
    "df.describe()"
   ]
  },
  {
   "cell_type": "markdown",
   "id": "43ac4645",
   "metadata": {},
   "source": [
    "### Summary Statistics\n",
    "\n",
    "- No missing values in any of the columns;\n",
    "- Ranges are diverse and might need scaling which we would decide upon further analysis\n",
    "- Minimum values in almost most of the columns are 0 which needs some attention as it can't be 0 when it comes to BP, Glucose levels and all\n",
    "- SD is minimum to moderate.\n",
    "- Mean in few columns shows that the data might be skewed mostly left and in few columns right and not many features with normal distribution."
   ]
  },
  {
   "cell_type": "code",
   "execution_count": 8,
   "id": "7ebdfdb7",
   "metadata": {},
   "outputs": [
    {
     "data": {
      "text/plain": [
       "Pregnancies                  17\n",
       "Glucose                     136\n",
       "BloodPressure                47\n",
       "SkinThickness                51\n",
       "Insulin                     186\n",
       "BMI                         248\n",
       "DiabetesPedigreeFunction    517\n",
       "Age                          52\n",
       "Outcome                       2\n",
       "dtype: int64"
      ]
     },
     "execution_count": 8,
     "metadata": {},
     "output_type": "execute_result"
    }
   ],
   "source": [
    "df.nunique()"
   ]
  },
  {
   "cell_type": "markdown",
   "id": "9758dd15",
   "metadata": {},
   "source": [
    "As we suspect some inconsistency in the values as we have 0 in many features which can't be the case... Let's check the unique values in all features and see whether we can observe anything fishy..."
   ]
  },
  {
   "cell_type": "code",
   "execution_count": 9,
   "id": "eba1f5d6",
   "metadata": {},
   "outputs": [],
   "source": [
    "def unique_values(df):\n",
    "    for col in df.columns:\n",
    "        unique_vals = df[col].nunique()\n",
    "        print(f\"{col}: {unique_vals} unique values\")\n",
    "        if unique_vals < 600:\n",
    "            print()\n",
    "            print(df[col].unique())\n",
    "        print(\"\\n\", 55 * \"_\", \"\\n\")"
   ]
  },
  {
   "cell_type": "code",
   "execution_count": 10,
   "id": "d656b0de",
   "metadata": {
    "scrolled": false
   },
   "outputs": [
    {
     "name": "stdout",
     "output_type": "stream",
     "text": [
      "Pregnancies: 17 unique values\n",
      "\n",
      "[ 6  1  8  0  5  3 10  2  4  7  9 11 13 15 17 12 14]\n",
      "\n",
      " _______________________________________________________ \n",
      "\n",
      "Glucose: 136 unique values\n",
      "\n",
      "[148  85 183  89 137 116  78 115 197 125 110 168 139 189 166 100 118 107\n",
      " 103 126  99 196 119 143 147  97 145 117 109 158  88  92 122 138 102  90\n",
      " 111 180 133 106 171 159 146  71 105 101 176 150  73 187  84  44 141 114\n",
      "  95 129  79   0  62 131 112 113  74  83 136  80 123  81 134 142 144  93\n",
      " 163 151  96 155  76 160 124 162 132 120 173 170 128 108 154  57 156 153\n",
      " 188 152 104  87  75 179 130 194 181 135 184 140 177 164  91 165  86 193\n",
      " 191 161 167  77 182 157 178  61  98 127  82  72 172  94 175 195  68 186\n",
      " 198 121  67 174 199  56 169 149  65 190]\n",
      "\n",
      " _______________________________________________________ \n",
      "\n",
      "BloodPressure: 47 unique values\n",
      "\n",
      "[ 72  66  64  40  74  50   0  70  96  92  80  60  84  30  88  90  94  76\n",
      "  82  75  58  78  68 110  56  62  85  86  48  44  65 108  55 122  54  52\n",
      "  98 104  95  46 102 100  61  24  38 106 114]\n",
      "\n",
      " _______________________________________________________ \n",
      "\n",
      "SkinThickness: 51 unique values\n",
      "\n",
      "[35 29  0 23 32 45 19 47 38 30 41 33 26 15 36 11 31 37 42 25 18 24 39 27\n",
      " 21 34 10 60 13 20 22 28 54 40 51 56 14 17 50 44 12 46 16  7 52 43 48  8\n",
      " 49 63 99]\n",
      "\n",
      " _______________________________________________________ \n",
      "\n",
      "Insulin: 186 unique values\n",
      "\n",
      "[  0  94 168  88 543 846 175 230  83  96 235 146 115 140 110 245  54 192\n",
      " 207  70 240  82  36  23 300 342 304 142 128  38 100  90 270  71 125 176\n",
      "  48  64 228  76 220  40 152  18 135 495  37  51  99 145 225  49  50  92\n",
      " 325  63 284 119 204 155 485  53 114 105 285 156  78 130  55  58 160 210\n",
      " 318  44 190 280  87 271 129 120 478  56  32 744 370  45 194 680 402 258\n",
      " 375 150  67  57 116 278 122 545  75  74 182 360 215 184  42 132 148 180\n",
      " 205  85 231  29  68  52 255 171  73 108  43 167 249 293  66 465  89 158\n",
      "  84  72  59  81 196 415 275 165 579 310  61 474 170 277  60  14  95 237\n",
      " 191 328 250 480 265 193  79  86 326 188 106  65 166 274  77 126 330 600\n",
      " 185  25  41 272 321 144  15 183  91  46 440 159 540 200 335 387  22 291\n",
      " 392 178 127 510  16 112]\n",
      "\n",
      " _______________________________________________________ \n",
      "\n",
      "BMI: 248 unique values\n",
      "\n",
      "[33.6 26.6 23.3 28.1 43.1 25.6 31.  35.3 30.5  0.  37.6 38.  27.1 30.1\n",
      " 25.8 30.  45.8 29.6 43.3 34.6 39.3 35.4 39.8 29.  36.6 31.1 39.4 23.2\n",
      " 22.2 34.1 36.  31.6 24.8 19.9 27.6 24.  33.2 32.9 38.2 37.1 34.  40.2\n",
      " 22.7 45.4 27.4 42.  29.7 28.  39.1 19.4 24.2 24.4 33.7 34.7 23.  37.7\n",
      " 46.8 40.5 41.5 25.  25.4 32.8 32.5 42.7 19.6 28.9 28.6 43.4 35.1 32.\n",
      " 24.7 32.6 43.2 22.4 29.3 24.6 48.8 32.4 38.5 26.5 19.1 46.7 23.8 33.9\n",
      " 20.4 28.7 49.7 39.  26.1 22.5 39.6 29.5 34.3 37.4 33.3 31.2 28.2 53.2\n",
      " 34.2 26.8 55.  42.9 34.5 27.9 38.3 21.1 33.8 30.8 36.9 39.5 27.3 21.9\n",
      " 40.6 47.9 50.  25.2 40.9 37.2 44.2 29.9 31.9 28.4 43.5 32.7 67.1 45.\n",
      " 34.9 27.7 35.9 22.6 33.1 30.4 52.3 24.3 22.9 34.8 30.9 40.1 23.9 37.5\n",
      " 35.5 42.8 42.6 41.8 35.8 37.8 28.8 23.6 35.7 36.7 45.2 44.  46.2 35.\n",
      " 43.6 44.1 18.4 29.2 25.9 32.1 36.3 40.  25.1 27.5 45.6 27.8 24.9 25.3\n",
      " 37.9 27.  26.  38.7 20.8 36.1 30.7 32.3 52.9 21.  39.7 25.5 26.2 19.3\n",
      " 38.1 23.5 45.5 23.1 39.9 36.8 21.8 41.  42.2 34.4 27.2 36.5 29.8 39.2\n",
      " 38.4 36.2 48.3 20.  22.3 45.7 23.7 22.1 42.1 42.4 18.2 26.4 45.3 37.\n",
      " 24.5 32.2 59.4 21.2 26.7 30.2 46.1 41.3 38.8 35.2 42.3 40.7 46.5 33.5\n",
      " 37.3 30.3 26.3 21.7 36.4 28.5 26.9 38.6 31.3 19.5 20.1 40.8 23.4 28.3\n",
      " 38.9 57.3 35.6 49.6 44.6 24.1 44.5 41.2 49.3 46.3]\n",
      "\n",
      " _______________________________________________________ \n",
      "\n",
      "DiabetesPedigreeFunction: 517 unique values\n",
      "\n",
      "[0.627 0.351 0.672 0.167 2.288 0.201 0.248 0.134 0.158 0.232 0.191 0.537\n",
      " 1.441 0.398 0.587 0.484 0.551 0.254 0.183 0.529 0.704 0.388 0.451 0.263\n",
      " 0.205 0.257 0.487 0.245 0.337 0.546 0.851 0.267 0.188 0.512 0.966 0.42\n",
      " 0.665 0.503 1.39  0.271 0.696 0.235 0.721 0.294 1.893 0.564 0.586 0.344\n",
      " 0.305 0.491 0.526 0.342 0.467 0.718 0.962 1.781 0.173 0.304 0.27  0.699\n",
      " 0.258 0.203 0.855 0.845 0.334 0.189 0.867 0.411 0.583 0.231 0.396 0.14\n",
      " 0.391 0.37  0.307 0.102 0.767 0.237 0.227 0.698 0.178 0.324 0.153 0.165\n",
      " 0.443 0.261 0.277 0.761 0.255 0.13  0.323 0.356 0.325 1.222 0.179 0.262\n",
      " 0.283 0.93  0.801 0.207 0.287 0.336 0.247 0.199 0.543 0.192 0.588 0.539\n",
      " 0.22  0.654 0.223 0.759 0.26  0.404 0.186 0.278 0.496 0.452 0.403 0.741\n",
      " 0.361 1.114 0.457 0.647 0.088 0.597 0.532 0.703 0.159 0.268 0.286 0.318\n",
      " 0.272 0.572 0.096 1.4   0.218 0.085 0.399 0.432 1.189 0.687 0.137 0.637\n",
      " 0.833 0.229 0.817 0.204 0.368 0.743 0.722 0.256 0.709 0.471 0.495 0.18\n",
      " 0.542 0.773 0.678 0.719 0.382 0.319 0.19  0.956 0.084 0.725 0.299 0.244\n",
      " 0.745 0.615 1.321 0.64  0.142 0.374 0.383 0.578 0.136 0.395 0.187 0.905\n",
      " 0.15  0.874 0.236 0.787 0.407 0.605 0.151 0.289 0.355 0.29  0.375 0.164\n",
      " 0.431 0.742 0.514 0.464 1.224 1.072 0.805 0.209 0.666 0.101 0.198 0.652\n",
      " 2.329 0.089 0.645 0.238 0.394 0.293 0.479 0.686 0.831 0.582 0.446 0.402\n",
      " 1.318 0.329 1.213 0.427 0.282 0.143 0.38  0.284 0.249 0.926 0.557 0.092\n",
      " 0.655 1.353 0.612 0.2   0.226 0.997 0.933 1.101 0.078 0.24  1.136 0.128\n",
      " 0.422 0.251 0.677 0.296 0.454 0.744 0.881 0.28  0.259 0.619 0.808 0.34\n",
      " 0.434 0.757 0.613 0.692 0.52  0.412 0.84  0.839 0.156 0.215 0.326 1.391\n",
      " 0.875 0.313 0.433 0.626 1.127 0.315 0.345 0.129 0.527 0.197 0.731 0.148\n",
      " 0.123 0.127 0.122 1.476 0.166 0.932 0.343 0.893 0.331 0.472 0.673 0.389\n",
      " 0.485 0.349 0.279 0.346 0.252 0.243 0.58  0.559 0.302 0.569 0.378 0.385\n",
      " 0.499 0.306 0.234 2.137 1.731 0.545 0.225 0.816 0.528 0.509 1.021 0.821\n",
      " 0.947 1.268 0.221 0.66  0.239 0.949 0.444 0.463 0.803 1.6   0.944 0.196\n",
      " 0.241 0.161 0.135 0.376 1.191 0.702 0.674 1.076 0.534 1.095 0.554 0.624\n",
      " 0.219 0.507 0.561 0.421 0.516 0.264 0.328 0.233 0.108 1.138 0.147 0.727\n",
      " 0.435 0.497 0.23  0.955 2.42  0.658 0.33  0.51  0.285 0.415 0.381 0.832\n",
      " 0.498 0.212 0.364 1.001 0.46  0.733 0.416 0.705 1.022 0.269 0.6   0.571\n",
      " 0.607 0.17  0.21  0.126 0.711 0.466 0.162 0.419 0.63  0.365 0.536 1.159\n",
      " 0.629 0.292 0.145 1.144 0.174 0.547 0.163 0.738 0.314 0.968 0.409 0.297\n",
      " 0.525 0.154 0.771 0.107 0.493 0.717 0.917 0.501 1.251 0.735 0.804 0.661\n",
      " 0.549 0.825 0.423 1.034 0.16  0.341 0.68  0.591 0.3   0.121 0.502 0.401\n",
      " 0.601 0.748 0.338 0.43  0.892 0.813 0.693 0.575 0.371 0.206 0.417 1.154\n",
      " 0.925 0.175 1.699 0.682 0.194 0.4   0.1   1.258 0.482 0.138 0.593 0.878\n",
      " 0.157 1.282 0.141 0.246 1.698 1.461 0.347 0.362 0.393 0.144 0.732 0.115\n",
      " 0.465 0.649 0.871 0.149 0.695 0.303 0.61  0.73  0.447 0.455 0.133 0.155\n",
      " 1.162 1.292 0.182 1.394 0.217 0.631 0.88  0.614 0.332 0.366 0.181 0.828\n",
      " 0.335 0.856 0.886 0.439 0.253 0.598 0.904 0.483 0.565 0.118 0.177 0.176\n",
      " 0.295 0.441 0.352 0.826 0.97  0.595 0.317 0.265 0.646 0.426 0.56  0.515\n",
      " 0.453 0.785 0.734 1.174 0.488 0.358 1.096 0.408 1.182 0.222 1.057 0.766\n",
      " 0.171]\n",
      "\n",
      " _______________________________________________________ \n",
      "\n",
      "Age: 52 unique values\n",
      "\n",
      "[50 31 32 21 33 30 26 29 53 54 34 57 59 51 27 41 43 22 38 60 28 45 35 46\n",
      " 56 37 48 40 25 24 58 42 44 39 36 23 61 69 62 55 65 47 52 66 49 63 67 72\n",
      " 81 64 70 68]\n",
      "\n",
      " _______________________________________________________ \n",
      "\n",
      "Outcome: 2 unique values\n",
      "\n",
      "[1 0]\n",
      "\n",
      " _______________________________________________________ \n",
      "\n"
     ]
    }
   ],
   "source": [
    "unique_values(df)"
   ]
  },
  {
   "cell_type": "code",
   "execution_count": 11,
   "id": "c0ffa058",
   "metadata": {},
   "outputs": [
    {
     "data": {
      "text/plain": [
       "Pregnancies                 111\n",
       "Glucose                       5\n",
       "BloodPressure                35\n",
       "SkinThickness               227\n",
       "Insulin                     374\n",
       "BMI                          11\n",
       "DiabetesPedigreeFunction      0\n",
       "Age                           0\n",
       "Outcome                     500\n",
       "dtype: int64"
      ]
     },
     "execution_count": 11,
     "metadata": {},
     "output_type": "execute_result"
    }
   ],
   "source": [
    "(df == 0).sum()"
   ]
  },
  {
   "cell_type": "markdown",
   "id": "177173de",
   "metadata": {},
   "source": [
    "**Observations:**\n",
    "\n",
    "- We can have any number of pregnancy and it seems well within the frame(0 - 17) observing the unique values.\n",
    "- Age and DiabetesPedigreeFunction columns don't have any values as zero. So, they look good.\n",
    "- SkinThickness we can assume them to be zero. But in this case we have no other values like 1-6 as thickness values and only other values within 10 are 7 and 8 and most other values seems to well above this range and the maximum we can notice is 99. So, we might have to address these by using some imputation techniques.\n",
    "- Glusose, BP, Insulin and BMI features can never be 0 unless and until the specified person is died and his/her measures are noted. But, this won't be the case mostly as we won't collect these data from a person who's dead. So, we probably need to do some imputation in these cases as well.\n",
    "- Our outcome feature need to have 0 as this is a binary classification problem. So, that's not an issue."
   ]
  },
  {
   "cell_type": "markdown",
   "id": "4a813add",
   "metadata": {},
   "source": [
    "We will do these imputations with either mean or median or some other technique after we see the distribution of each of these columns as some might have outliers and mean might be skewed."
   ]
  },
  {
   "cell_type": "markdown",
   "id": "6fb61e29",
   "metadata": {},
   "source": [
    "## Outlier Check"
   ]
  },
  {
   "cell_type": "code",
   "execution_count": 12,
   "id": "d9b485a9",
   "metadata": {},
   "outputs": [],
   "source": [
    "def count_outliers(df):\n",
    "    outliers = {}\n",
    "    for col in df.select_dtypes(include='number').columns:\n",
    "        q1 = df[col].quantile(0.25)\n",
    "        q3 = df[col].quantile(0.75)\n",
    "        iqr = q3 - q1\n",
    "        upper_bound = q3 + (1.5 * iqr)\n",
    "        lower_bound = q1 - (1.5 * iqr)\n",
    "        num_outliers = len(df[(df[col] > upper_bound) | (df[col] < lower_bound)])\n",
    "        percent_outliers = (num_outliers / len(df)) * 100\n",
    "        outliers[col] = {'count': num_outliers, 'percent': percent_outliers}\n",
    "    return outliers"
   ]
  },
  {
   "cell_type": "code",
   "execution_count": 13,
   "id": "7fff1f01",
   "metadata": {},
   "outputs": [
    {
     "name": "stdout",
     "output_type": "stream",
     "text": [
      "Column: Pregnancies\n",
      "Count of outliers: 4\n",
      "Percentage of outliers: 0.52%\n",
      "\n",
      "Column: Glucose\n",
      "Count of outliers: 5\n",
      "Percentage of outliers: 0.65%\n",
      "\n",
      "Column: BloodPressure\n",
      "Count of outliers: 45\n",
      "Percentage of outliers: 5.86%\n",
      "\n",
      "Column: SkinThickness\n",
      "Count of outliers: 1\n",
      "Percentage of outliers: 0.13%\n",
      "\n",
      "Column: Insulin\n",
      "Count of outliers: 34\n",
      "Percentage of outliers: 4.43%\n",
      "\n",
      "Column: BMI\n",
      "Count of outliers: 19\n",
      "Percentage of outliers: 2.47%\n",
      "\n",
      "Column: DiabetesPedigreeFunction\n",
      "Count of outliers: 29\n",
      "Percentage of outliers: 3.78%\n",
      "\n",
      "Column: Age\n",
      "Count of outliers: 9\n",
      "Percentage of outliers: 1.17%\n",
      "\n",
      "Column: Outcome\n",
      "Count of outliers: 0\n",
      "Percentage of outliers: 0.0%\n",
      "\n"
     ]
    }
   ],
   "source": [
    "outliers = count_outliers(df)\n",
    "for col, info in outliers.items():\n",
    "    print(f\"Column: {col}\")\n",
    "    print(f\"Count of outliers: {info['count']}\")\n",
    "    print(f\"Percentage of outliers: {round(info['percent'], 2)}%\")\n",
    "    print()"
   ]
  },
  {
   "cell_type": "markdown",
   "id": "c5c21ec5",
   "metadata": {},
   "source": [
    "The dataset doesn't seem to have much outlier and it suggests the use of even linear and distance based models after scaling and other preprocessing if any... As there's no alarming amount of outliers and as this is medical dataset, where outliers need due attention we would keep them as it is and do scaling if needed and see how the model performs..."
   ]
  },
  {
   "cell_type": "markdown",
   "id": "e72238e2",
   "metadata": {},
   "source": [
    "## Splitting Dataset into Discrete and Continuous to Handle them seperately"
   ]
  },
  {
   "cell_type": "markdown",
   "id": "40660f63",
   "metadata": {},
   "source": [
    "- `Pregnancies / No. of Pregnancies` and `Age` features can be considered as `discrete`.\n",
    "- `Outcome` column is our target feature which is `binary` and that doesn't need to be classified among discrete or continuous.\n",
    "- `All other features` can be considered `continuous`."
   ]
  },
  {
   "cell_type": "code",
   "execution_count": 14,
   "id": "a360990d",
   "metadata": {},
   "outputs": [],
   "source": [
    "discrete_vars = ['Pregnancies', 'Age']\n",
    "\n",
    "continuous_vars = [col for col in df.columns if col not in discrete_vars and col != 'Outcome']"
   ]
  },
  {
   "cell_type": "code",
   "execution_count": 15,
   "id": "e8919873",
   "metadata": {},
   "outputs": [
    {
     "data": {
      "text/plain": [
       "['Pregnancies', 'Age']"
      ]
     },
     "execution_count": 15,
     "metadata": {},
     "output_type": "execute_result"
    }
   ],
   "source": [
    "discrete_vars"
   ]
  },
  {
   "cell_type": "code",
   "execution_count": 16,
   "id": "45f43a37",
   "metadata": {},
   "outputs": [
    {
     "data": {
      "text/plain": [
       "['Glucose',\n",
       " 'BloodPressure',\n",
       " 'SkinThickness',\n",
       " 'Insulin',\n",
       " 'BMI',\n",
       " 'DiabetesPedigreeFunction']"
      ]
     },
     "execution_count": 16,
     "metadata": {},
     "output_type": "execute_result"
    }
   ],
   "source": [
    "continuous_vars"
   ]
  },
  {
   "cell_type": "markdown",
   "id": "4b1463c2",
   "metadata": {},
   "source": [
    "## Handling Discrete Features"
   ]
  },
  {
   "cell_type": "code",
   "execution_count": 17,
   "id": "a64ee7a0",
   "metadata": {},
   "outputs": [
    {
     "name": "stdout",
     "output_type": "stream",
     "text": [
      "Pregnancies :\n",
      "\n",
      "[ 6  1  8  0  5  3 10  2  4  7  9 11 13 15 17 12 14]\n",
      "\n",
      " _______________________________________________________ \n",
      "\n",
      "Age :\n",
      "\n",
      "[50 31 32 21 33 30 26 29 53 54 34 57 59 51 27 41 43 22 38 60 28 45 35 46\n",
      " 56 37 48 40 25 24 58 42 44 39 36 23 61 69 62 55 65 47 52 66 49 63 67 72\n",
      " 81 64 70 68]\n",
      "\n",
      " _______________________________________________________ \n",
      "\n"
     ]
    }
   ],
   "source": [
    "for column in discrete_vars:\n",
    "    print(column, ':\\n')\n",
    "    print(df[column].unique())\n",
    "    print(\"\\n\", 55 * \"_\", \"\\n\")"
   ]
  },
  {
   "cell_type": "code",
   "execution_count": 18,
   "id": "1a29c2a7",
   "metadata": {},
   "outputs": [
    {
     "data": {
      "text/plain": [
       "(0.0, 20.0)"
      ]
     },
     "execution_count": 18,
     "metadata": {},
     "output_type": "execute_result"
    },
    {
     "data": {
      "image/png": "[encoded data removed]",
      "text/plain": [
       "<Figure size 640x480 with 1 Axes>"
      ]
     },
     "metadata": {},
     "output_type": "display_data"
    }
   ],
   "source": [
    "df['Pregnancies'].plot.hist()\n",
    "plt.xlim(0, 20)"
   ]
  },
  {
   "cell_type": "markdown",
   "id": "c284bea8",
   "metadata": {},
   "source": [
    "As we observe here as the pregnancy count increases, the frequency decreases and it is hard for some linear model or distance based model to process these kinda lognormal distribution... So, we probably have to pick a tree based model.. Let's see what to do later on after observing all other trends...\n",
    "\n",
    "**Note:** It is important to note that we can't exclude those extreme values as pregnancy count can be crucial at times in deciding whether or not a patient has diabetes. Also the common notion in medical field is that outliers and extreme values are the point of importance and we have to stress on those without removing them..."
   ]
  },
  {
   "cell_type": "code",
   "execution_count": 19,
   "id": "05ad1715",
   "metadata": {},
   "outputs": [
    {
     "data": {
      "text/plain": [
       "<Axes: ylabel='Frequency'>"
      ]
     },
     "execution_count": 19,
     "metadata": {},
     "output_type": "execute_result"
    },
    {
     "data": {
      "image/png": "[encoded data removed]",
      "text/plain": [
       "<Figure size 640x480 with 1 Axes>"
      ]
     },
     "metadata": {},
     "output_type": "display_data"
    }
   ],
   "source": [
    "df['Age'].plot.hist()"
   ]
  },
  {
   "cell_type": "code",
   "execution_count": 20,
   "id": "2a8b3ce5",
   "metadata": {},
   "outputs": [
    {
     "name": "stdout",
     "output_type": "stream",
     "text": [
      "1     135\n",
      "0     111\n",
      "2     103\n",
      "3      75\n",
      "4      68\n",
      "5      57\n",
      "6      50\n",
      "7      45\n",
      "8      38\n",
      "9      28\n",
      "10     24\n",
      "11     11\n",
      "13     10\n",
      "12      9\n",
      "14      2\n",
      "15      1\n",
      "17      1\n",
      "Name: Pregnancies, dtype: int64\n",
      "\n",
      " _______________________________________________________ \n",
      "\n",
      "22    72\n",
      "21    63\n",
      "25    48\n",
      "24    46\n",
      "23    38\n",
      "28    35\n",
      "26    33\n",
      "27    32\n",
      "29    29\n",
      "31    24\n",
      "41    22\n",
      "30    21\n",
      "37    19\n",
      "42    18\n",
      "33    17\n",
      "38    16\n",
      "36    16\n",
      "32    16\n",
      "45    15\n",
      "34    14\n",
      "46    13\n",
      "43    13\n",
      "40    13\n",
      "39    12\n",
      "35    10\n",
      "50     8\n",
      "51     8\n",
      "52     8\n",
      "44     8\n",
      "58     7\n",
      "47     6\n",
      "54     6\n",
      "49     5\n",
      "48     5\n",
      "57     5\n",
      "53     5\n",
      "60     5\n",
      "66     4\n",
      "63     4\n",
      "62     4\n",
      "55     4\n",
      "67     3\n",
      "56     3\n",
      "59     3\n",
      "65     3\n",
      "69     2\n",
      "61     2\n",
      "72     1\n",
      "81     1\n",
      "64     1\n",
      "70     1\n",
      "68     1\n",
      "Name: Age, dtype: int64\n",
      "\n",
      " _______________________________________________________ \n",
      "\n"
     ]
    }
   ],
   "source": [
    "for column in discrete_vars:\n",
    "    if column != 'age':\n",
    "        print(df[column].value_counts())\n",
    "        print(\"\\n\", 55 * \"_\", \"\\n\")"
   ]
  },
  {
   "cell_type": "markdown",
   "id": "e51096d5",
   "metadata": {},
   "source": [
    "The test seems to be conducted mostly on people in the age range of 20 - 45 and less old age people and the dataset might be imbalanced as mostly old age people will have the diabetes though these days younger generation getting diabetes. We can't clip these age as well as it is one of the crucial factor in deciding whether or not a patient has diabetes... We don't have normal distribution here as well and we will see whether we can address this with some transformation or not..."
   ]
  },
  {
   "cell_type": "code",
   "execution_count": 21,
   "id": "3ff4713e",
   "metadata": {},
   "outputs": [],
   "source": [
    "def get_column_ranges(df):\n",
    "    ranges = {}\n",
    "    for column in discrete_vars:\n",
    "        column_min = df[column].min()\n",
    "        column_max = df[column].max()\n",
    "        column_range = column_max - column_min\n",
    "        ranges[column] = [column_min, column_max, column_range]\n",
    "    return ranges"
   ]
  },
  {
   "cell_type": "code",
   "execution_count": 22,
   "id": "a22e6976",
   "metadata": {},
   "outputs": [
    {
     "name": "stdout",
     "output_type": "stream",
     "text": [
      "Column: Pregnancies\n",
      "Minimum: 0, Maximum: 17, Range: 17\n",
      "\n",
      "Column: Age\n",
      "Minimum: 21, Maximum: 81, Range: 60\n",
      "\n"
     ]
    }
   ],
   "source": [
    "ranges = get_column_ranges(df)\n",
    "\n",
    "for column, values in ranges.items():\n",
    "    print(f\"Column: {column}\")\n",
    "    print(f\"Minimum: {values[0]}, Maximum: {values[1]}, Range: {values[2]}\")\n",
    "    print()"
   ]
  },
  {
   "cell_type": "markdown",
   "id": "aee6949c",
   "metadata": {},
   "source": [
    "Range shows that these two needs to be scaled down, especially the age column... We will do it later on after the split..."
   ]
  },
  {
   "cell_type": "markdown",
   "id": "297cb61a",
   "metadata": {},
   "source": [
    "## Handling Continuous Features"
   ]
  },
  {
   "cell_type": "code",
   "execution_count": 23,
   "id": "bc96065a",
   "metadata": {},
   "outputs": [
    {
     "data": {
      "text/plain": [
       "['Glucose',\n",
       " 'BloodPressure',\n",
       " 'SkinThickness',\n",
       " 'Insulin',\n",
       " 'BMI',\n",
       " 'DiabetesPedigreeFunction']"
      ]
     },
     "execution_count": 23,
     "metadata": {},
     "output_type": "execute_result"
    }
   ],
   "source": [
    "continuous_vars"
   ]
  },
  {
   "cell_type": "code",
   "execution_count": 24,
   "id": "b0020926",
   "metadata": {},
   "outputs": [
    {
     "data": {
      "image/png": "[encoded data removed]",
      "text/plain": [
       "<Figure size 1200x1500 with 6 Axes>"
      ]
     },
     "metadata": {},
     "output_type": "display_data"
    }
   ],
   "source": [
    "num_plots = len(continuous_vars)\n",
    "\n",
    "num_rows = (num_plots + 1) // 2  # Number of rows for subplots\n",
    "\n",
    "fig, axes = plt.subplots(num_rows, 2, figsize=(12, 5 * num_rows))\n",
    "\n",
    "for i, feature in enumerate(continuous_vars):\n",
    "    data = df.copy()\n",
    "\n",
    "    row = i // 2\n",
    "    col = i % 2\n",
    "    ax = axes[row, col]\n",
    "\n",
    "    sns.histplot(data[feature], ax=ax, bins=7, color='darkblue')\n",
    "    ax.set_xlabel(feature.replace('_', ' ').title())\n",
    "    ax.set_ylabel(\"Frequency\")\n",
    "\n",
    "# Remove any empty subplots\n",
    "if num_plots < num_rows * 2:\n",
    "    fig.delaxes(axes[num_rows-1, 1])\n",
    "\n",
    "plt.tight_layout()\n",
    "plt.show()"
   ]
  },
  {
   "cell_type": "markdown",
   "id": "abfee1aa",
   "metadata": {},
   "source": [
    "As we have already observed no alarming amount of outliers and here few variables seems to hold close to normal distribution and few other are skewed mostly because of the fact that we have 0s where there shouldn't be... So, we have to consider the 0s as null values and have to do some imputation to handle those..."
   ]
  },
  {
   "cell_type": "markdown",
   "id": "df7bc5f3",
   "metadata": {},
   "source": [
    "As we have observed that there's no alarming amount of outliers we can simply use mean for imputation instead of going for some complex thing..."
   ]
  },
  {
   "cell_type": "code",
   "execution_count": 25,
   "id": "d82cf2b3",
   "metadata": {},
   "outputs": [],
   "source": [
    "for col in df.columns:\n",
    "    if col not in (discrete_vars + ['DiabetesPedigreeFunction', 'Outcome']):\n",
    "        df[col].replace(0, np.mean(df[col]), inplace=True)"
   ]
  },
  {
   "cell_type": "code",
   "execution_count": 26,
   "id": "d316c7fb",
   "metadata": {},
   "outputs": [
    {
     "data": {
      "image/png": "[encoded data removed]",
      "text/plain": [
       "<Figure size 1200x1500 with 6 Axes>"
      ]
     },
     "metadata": {},
     "output_type": "display_data"
    }
   ],
   "source": [
    "num_plots = len(continuous_vars)\n",
    "\n",
    "num_rows = (num_plots + 1) // 2  # Number of rows for subplots\n",
    "\n",
    "fig, axes = plt.subplots(num_rows, 2, figsize=(12, 5 * num_rows))\n",
    "\n",
    "for i, feature in enumerate(continuous_vars):\n",
    "    data = df.copy()\n",
    "\n",
    "    row = i // 2\n",
    "    col = i % 2\n",
    "    ax = axes[row, col]\n",
    "\n",
    "    sns.histplot(data[feature], ax=ax, bins=7, color='darkblue')\n",
    "    ax.set_xlabel(feature.replace('_', ' ').title())\n",
    "    ax.set_ylabel(\"Frequency\")\n",
    "\n",
    "# Remove any empty subplots\n",
    "if num_plots < num_rows * 2:\n",
    "    fig.delaxes(axes[num_rows-1, 1])\n",
    "\n",
    "plt.tight_layout()\n",
    "plt.show()"
   ]
  },
  {
   "cell_type": "markdown",
   "id": "dd8b911b",
   "metadata": {},
   "source": [
    "Now as we see, zeros has got replaced with mean and distributions looks pretty much fine and its just that we need to do some transformation to give them as input to linear and distance based models..."
   ]
  },
  {
   "cell_type": "code",
   "execution_count": 27,
   "id": "3e2b584b",
   "metadata": {},
   "outputs": [],
   "source": [
    "def get_column_ranges(df):\n",
    "    ranges = {}\n",
    "    for column in continuous_vars:\n",
    "        column_min = df[column].min()\n",
    "        column_max = df[column].max()\n",
    "        column_range = column_max - column_min\n",
    "        ranges[column] = [column_min, column_max, column_range]\n",
    "    return ranges"
   ]
  },
  {
   "cell_type": "code",
   "execution_count": 28,
   "id": "b1d312de",
   "metadata": {},
   "outputs": [
    {
     "name": "stdout",
     "output_type": "stream",
     "text": [
      "Column: Glucose\n",
      "Minimum: 44.0, Maximum: 199.0, Range: 155.0\n",
      "\n",
      "Column: BloodPressure\n",
      "Minimum: 24.0, Maximum: 122.0, Range: 98.0\n",
      "\n",
      "Column: SkinThickness\n",
      "Minimum: 7.0, Maximum: 99.0, Range: 92.0\n",
      "\n",
      "Column: Insulin\n",
      "Minimum: 14.0, Maximum: 846.0, Range: 832.0\n",
      "\n",
      "Column: BMI\n",
      "Minimum: 18.2, Maximum: 67.1, Range: 48.89999999999999\n",
      "\n",
      "Column: DiabetesPedigreeFunction\n",
      "Minimum: 0.078, Maximum: 2.42, Range: 2.342\n",
      "\n"
     ]
    }
   ],
   "source": [
    "ranges = get_column_ranges(df)\n",
    "\n",
    "for column, values in ranges.items():\n",
    "    print(f\"Column: {column}\")\n",
    "    print(f\"Minimum: {values[0]}, Maximum: {values[1]}, Range: {values[2]}\")\n",
    "    print()"
   ]
  },
  {
   "cell_type": "markdown",
   "id": "73367f3c",
   "metadata": {},
   "source": [
    "As we see except DiabetesPedigreeFunction all other features looks like they need some scaling... It's better we do scaling over all features..."
   ]
  },
  {
   "cell_type": "markdown",
   "id": "cc376240",
   "metadata": {},
   "source": [
    "## Model Building"
   ]
  },
  {
   "cell_type": "markdown",
   "id": "048bb913",
   "metadata": {},
   "source": [
    "### Dependent, Independent and Train, Test Split"
   ]
  },
  {
   "cell_type": "code",
   "execution_count": 29,
   "id": "acea9b6e",
   "metadata": {},
   "outputs": [],
   "source": [
    "X = df.iloc[:, :-1]\n",
    "y = df.iloc[:, -1]"
   ]
  },
  {
   "cell_type": "code",
   "execution_count": 30,
   "id": "02d5ac94",
   "metadata": {},
   "outputs": [
    {
     "name": "stdout",
     "output_type": "stream",
     "text": [
      "Train set: (614, 8) (614,)\n",
      "Test set: (154, 8) (154,)\n"
     ]
    }
   ],
   "source": [
    "# As we have just 700 instances we will go with just 2 splits(80:20) and no seperate validation split\n",
    "\n",
    "X_train, X_test, y_train, y_test = train_test_split(X, y, test_size=0.2, random_state=32)\n",
    "\n",
    "print(\"Train set:\", X_train.shape, y_train.shape)\n",
    "print(\"Test set:\", X_test.shape, y_test.shape)"
   ]
  },
  {
   "cell_type": "markdown",
   "id": "8adf882f",
   "metadata": {},
   "source": [
    "### Scaling"
   ]
  },
  {
   "cell_type": "code",
   "execution_count": 31,
   "id": "fddd0a60",
   "metadata": {},
   "outputs": [],
   "source": [
    "X_train_scaled = X_train.copy()\n",
    "X_test_scaled = X_test.copy()\n",
    "\n",
    "scaler = StandardScaler()\n",
    "\n",
    "X_train_scaled = scaler.fit_transform(X_train_scaled)\n",
    "\n",
    "X_test_scaled = scaler.transform(X_test_scaled)"
   ]
  },
  {
   "cell_type": "code",
   "execution_count": 32,
   "id": "2971335c",
   "metadata": {},
   "outputs": [
    {
     "data": {
      "text/plain": [
       "<Axes: title={'center': 'Imbalance Check Over Target Variable'}>"
      ]
     },
     "execution_count": 32,
     "metadata": {},
     "output_type": "execute_result"
    },
    {
     "data": {
      "image/png": "[encoded data removed]",
      "text/plain": [
       "<Figure size 640x480 with 1 Axes>"
      ]
     },
     "metadata": {},
     "output_type": "display_data"
    }
   ],
   "source": [
    "y_train.value_counts().plot.pie(autopct='%.2f', label='', title = 'Imbalance Check Over Target Variable')"
   ]
  },
  {
   "cell_type": "markdown",
   "id": "c36aff1c",
   "metadata": {},
   "source": [
    "As we notice here, there seems to be a bit of class imbalance in train set and we would see which sampling technique would be appropriate by looping through few models and fix one among it..."
   ]
  },
  {
   "cell_type": "code",
   "execution_count": 33,
   "id": "be1fbf1a",
   "metadata": {},
   "outputs": [
    {
     "data": {
      "text/html": [
       "<div>\n",
       "<style scoped>\n",
       "    .dataframe tbody tr th:only-of-type {\n",
       "        vertical-align: middle;\n",
       "    }\n",
       "\n",
       "    .dataframe tbody tr th {\n",
       "        vertical-align: top;\n",
       "    }\n",
       "\n",
       "    .dataframe thead th {\n",
       "        text-align: right;\n",
       "    }\n",
       "</style>\n",
       "<table border=\"1\" class=\"dataframe\">\n",
       "  <thead>\n",
       "    <tr style=\"text-align: right;\">\n",
       "      <th></th>\n",
       "      <th>Model</th>\n",
       "      <th>Imbalance Technique</th>\n",
       "      <th>Accuracy</th>\n",
       "      <th>F1-Score</th>\n",
       "    </tr>\n",
       "  </thead>\n",
       "  <tbody>\n",
       "    <tr>\n",
       "      <th>0</th>\n",
       "      <td>LogisticRegression</td>\n",
       "      <td>Undersampling</td>\n",
       "      <td>0.772727</td>\n",
       "      <td>0.776752</td>\n",
       "    </tr>\n",
       "    <tr>\n",
       "      <th>1</th>\n",
       "      <td>RandomForestClassifier</td>\n",
       "      <td>Undersampling</td>\n",
       "      <td>0.785714</td>\n",
       "      <td>0.789509</td>\n",
       "    </tr>\n",
       "    <tr>\n",
       "      <th>2</th>\n",
       "      <td>KNeighborsClassifier</td>\n",
       "      <td>Undersampling</td>\n",
       "      <td>0.727273</td>\n",
       "      <td>0.732930</td>\n",
       "    </tr>\n",
       "    <tr>\n",
       "      <th>3</th>\n",
       "      <td>LogisticRegression</td>\n",
       "      <td>Oversampling</td>\n",
       "      <td>0.818182</td>\n",
       "      <td>0.821734</td>\n",
       "    </tr>\n",
       "    <tr>\n",
       "      <th>4</th>\n",
       "      <td>RandomForestClassifier</td>\n",
       "      <td>Oversampling</td>\n",
       "      <td>0.785714</td>\n",
       "      <td>0.786910</td>\n",
       "    </tr>\n",
       "    <tr>\n",
       "      <th>5</th>\n",
       "      <td>KNeighborsClassifier</td>\n",
       "      <td>Oversampling</td>\n",
       "      <td>0.746753</td>\n",
       "      <td>0.752029</td>\n",
       "    </tr>\n",
       "    <tr>\n",
       "      <th>6</th>\n",
       "      <td>LogisticRegression</td>\n",
       "      <td>SMOTE</td>\n",
       "      <td>0.785714</td>\n",
       "      <td>0.789152</td>\n",
       "    </tr>\n",
       "    <tr>\n",
       "      <th>7</th>\n",
       "      <td>RandomForestClassifier</td>\n",
       "      <td>SMOTE</td>\n",
       "      <td>0.766234</td>\n",
       "      <td>0.767925</td>\n",
       "    </tr>\n",
       "    <tr>\n",
       "      <th>8</th>\n",
       "      <td>KNeighborsClassifier</td>\n",
       "      <td>SMOTE</td>\n",
       "      <td>0.740260</td>\n",
       "      <td>0.745648</td>\n",
       "    </tr>\n",
       "  </tbody>\n",
       "</table>\n",
       "</div>"
      ],
      "text/plain": [
       "                    Model Imbalance Technique  Accuracy  F1-Score\n",
       "0      LogisticRegression       Undersampling  0.772727  0.776752\n",
       "1  RandomForestClassifier       Undersampling  0.785714  0.789509\n",
       "2    KNeighborsClassifier       Undersampling  0.727273  0.732930\n",
       "3      LogisticRegression        Oversampling  0.818182  0.821734\n",
       "4  RandomForestClassifier        Oversampling  0.785714  0.786910\n",
       "5    KNeighborsClassifier        Oversampling  0.746753  0.752029\n",
       "6      LogisticRegression               SMOTE  0.785714  0.789152\n",
       "7  RandomForestClassifier               SMOTE  0.766234  0.767925\n",
       "8    KNeighborsClassifier               SMOTE  0.740260  0.745648"
      ]
     },
     "execution_count": 33,
     "metadata": {},
     "output_type": "execute_result"
    }
   ],
   "source": [
    "important_models = [LogisticRegression(), RandomForestClassifier(), KNeighborsClassifier()]\n",
    "\n",
    "imbalance_techniques = [('Undersampling', RandomUnderSampler()), ('Oversampling', RandomOverSampler()), ('SMOTE', SMOTE())]\n",
    "\n",
    "results_df = pd.DataFrame(columns=['Model', 'Imbalance Technique', 'Accuracy', 'F1-Score'])\n",
    "\n",
    "for imbalance_name, imbalance_technique in imbalance_techniques:\n",
    "\n",
    "    X_train_resampled, y_train_resampled = imbalance_technique.fit_resample(X_train_scaled, y_train)\n",
    "\n",
    "    for model in important_models:\n",
    "\n",
    "        model.fit(X_train_resampled, y_train_resampled)\n",
    "        \n",
    "        y_train_pred = model.predict(X_train_resampled)\n",
    "        y_pred = model.predict(X_test_scaled)\n",
    "\n",
    "        accuracy = accuracy_score(y_test, y_pred)\n",
    "        f1 = f1_score(y_test, y_pred, average='weighted')\n",
    "        \n",
    "        results_df = results_df.append({\n",
    "            'Model': model.__class__.__name__,\n",
    "            'Imbalance Technique': imbalance_name,\n",
    "            'Accuracy': accuracy,\n",
    "            'F1-Score': f1,\n",
    "        }, ignore_index=True)\n",
    "\n",
    "results_df"
   ]
  },
  {
   "cell_type": "markdown",
   "id": "18b422cf",
   "metadata": {},
   "source": [
    "Oversampling and SMOTE seems to perform better. So, lets stick to Oversampling here as it is more reliable..."
   ]
  },
  {
   "cell_type": "code",
   "execution_count": 34,
   "id": "ed4e8a5d",
   "metadata": {},
   "outputs": [],
   "source": [
    "over_sampler = RandomOverSampler()\n",
    "\n",
    "X_train_res, y_train_res = over_sampler.fit_resample(X_train_scaled, y_train)"
   ]
  },
  {
   "cell_type": "code",
   "execution_count": 35,
   "id": "8189a7af",
   "metadata": {},
   "outputs": [
    {
     "data": {
      "text/plain": [
       "<Axes: title={'center': 'Imbalance Check Over Target Variable'}>"
      ]
     },
     "execution_count": 35,
     "metadata": {},
     "output_type": "execute_result"
    },
    {
     "data": {
      "image/png": "[encoded data removed]",
      "text/plain": [
       "<Figure size 640x480 with 1 Axes>"
      ]
     },
     "metadata": {},
     "output_type": "display_data"
    }
   ],
   "source": [
    "y_train_res.value_counts().plot.pie(autopct = '%.2f', label = '', title = 'Imbalance Check Over Target Variable')"
   ]
  },
  {
   "cell_type": "markdown",
   "id": "359450c3",
   "metadata": {},
   "source": [
    "It is appropriate to use tree based model directly but let's loop through all possible models and find the best one..."
   ]
  },
  {
   "cell_type": "code",
   "execution_count": 38,
   "id": "e74b85e2",
   "metadata": {},
   "outputs": [
    {
     "data": {
      "text/html": [
       "<div>\n",
       "<style scoped>\n",
       "    .dataframe tbody tr th:only-of-type {\n",
       "        vertical-align: middle;\n",
       "    }\n",
       "\n",
       "    .dataframe tbody tr th {\n",
       "        vertical-align: top;\n",
       "    }\n",
       "\n",
       "    .dataframe thead th {\n",
       "        text-align: right;\n",
       "    }\n",
       "</style>\n",
       "<table border=\"1\" class=\"dataframe\">\n",
       "  <thead>\n",
       "    <tr style=\"text-align: right;\">\n",
       "      <th></th>\n",
       "      <th>Model</th>\n",
       "      <th>Accuracy</th>\n",
       "      <th>F1-Score</th>\n",
       "    </tr>\n",
       "  </thead>\n",
       "  <tbody>\n",
       "    <tr>\n",
       "      <th>0</th>\n",
       "      <td>LogisticRegression</td>\n",
       "      <td>0.798701</td>\n",
       "      <td>0.802266</td>\n",
       "    </tr>\n",
       "    <tr>\n",
       "      <th>4</th>\n",
       "      <td>GradientBoostingClassifier</td>\n",
       "      <td>0.792208</td>\n",
       "      <td>0.795339</td>\n",
       "    </tr>\n",
       "    <tr>\n",
       "      <th>2</th>\n",
       "      <td>RandomForestClassifier</td>\n",
       "      <td>0.779221</td>\n",
       "      <td>0.780066</td>\n",
       "    </tr>\n",
       "    <tr>\n",
       "      <th>7</th>\n",
       "      <td>SVC</td>\n",
       "      <td>0.766234</td>\n",
       "      <td>0.769757</td>\n",
       "    </tr>\n",
       "    <tr>\n",
       "      <th>5</th>\n",
       "      <td>HistGradientBoostingClassifier</td>\n",
       "      <td>0.766234</td>\n",
       "      <td>0.767128</td>\n",
       "    </tr>\n",
       "    <tr>\n",
       "      <th>3</th>\n",
       "      <td>AdaBoostClassifier</td>\n",
       "      <td>0.753247</td>\n",
       "      <td>0.756416</td>\n",
       "    </tr>\n",
       "    <tr>\n",
       "      <th>6</th>\n",
       "      <td>XGBClassifier</td>\n",
       "      <td>0.753247</td>\n",
       "      <td>0.752196</td>\n",
       "    </tr>\n",
       "    <tr>\n",
       "      <th>8</th>\n",
       "      <td>KNeighborsClassifier</td>\n",
       "      <td>0.720779</td>\n",
       "      <td>0.726523</td>\n",
       "    </tr>\n",
       "    <tr>\n",
       "      <th>1</th>\n",
       "      <td>DecisionTreeClassifier</td>\n",
       "      <td>0.681818</td>\n",
       "      <td>0.676439</td>\n",
       "    </tr>\n",
       "  </tbody>\n",
       "</table>\n",
       "</div>"
      ],
      "text/plain": [
       "                            Model  Accuracy  F1-Score\n",
       "0              LogisticRegression  0.798701  0.802266\n",
       "4      GradientBoostingClassifier  0.792208  0.795339\n",
       "2          RandomForestClassifier  0.779221  0.780066\n",
       "7                             SVC  0.766234  0.769757\n",
       "5  HistGradientBoostingClassifier  0.766234  0.767128\n",
       "3              AdaBoostClassifier  0.753247  0.756416\n",
       "6                   XGBClassifier  0.753247  0.752196\n",
       "8            KNeighborsClassifier  0.720779  0.726523\n",
       "1          DecisionTreeClassifier  0.681818  0.676439"
      ]
     },
     "execution_count": 38,
     "metadata": {},
     "output_type": "execute_result"
    }
   ],
   "source": [
    "classification_models = [\n",
    "    LogisticRegression(),\n",
    "    DecisionTreeClassifier(),\n",
    "    RandomForestClassifier(),\n",
    "    AdaBoostClassifier(),\n",
    "    GradientBoostingClassifier(),\n",
    "    HistGradientBoostingClassifier(),\n",
    "    XGBClassifier(),\n",
    "    SVC(),\n",
    "    KNeighborsClassifier()\n",
    "]\n",
    "\n",
    "cls_results_df = pd.DataFrame(columns=['Model', 'Accuracy', 'F1-Score'])\n",
    "\n",
    "for model in classification_models:\n",
    "\n",
    "    model.fit(X_train_res, y_train_res)\n",
    "    \n",
    "    y_test_pred = model.predict(X_test_scaled)\n",
    "    \n",
    "    accuracy = accuracy_score(y_test, y_test_pred)\n",
    "    f1_test = f1_score(y_test, y_test_pred, average='weighted')\n",
    "    \n",
    "    cls_results_df = cls_results_df.append({\n",
    "                           'Model': model.__class__.__name__,\n",
    "                           'Accuracy': accuracy,\n",
    "                           'F1-Score': f1_test,\n",
    "                          }, ignore_index=True)\n",
    "\n",
    "cls_results_df.sort_values(by='F1-Score', ascending=False, inplace=True)\n",
    "cls_results_df"
   ]
  },
  {
   "cell_type": "markdown",
   "id": "829b018d",
   "metadata": {},
   "source": [
    "I have observed Log reg underfitting and as we have outliers gradient booster would be the appropriate one to go with..."
   ]
  },
  {
   "cell_type": "code",
   "execution_count": 39,
   "id": "aceb2050",
   "metadata": {},
   "outputs": [
    {
     "name": "stdout",
     "output_type": "stream",
     "text": [
      "Best Parameters:  {'learning_rate': 0.05, 'max_depth': 5, 'min_samples_leaf': 1, 'n_estimators': 200}\n",
      "Best Score (F1):  0.8566349501344716\n"
     ]
    }
   ],
   "source": [
    "param_grid = {\n",
    "    'learning_rate': [0.01, 0.05, 0.001],\n",
    "    'max_depth': [3, 4, 5],\n",
    "    'min_samples_leaf': [1, 3, 5],\n",
    "    'n_estimators': [50, 200, 250, 350]\n",
    "}\n",
    "\n",
    "gb_classifier = GradientBoostingClassifier(random_state=42)\n",
    "\n",
    "grid_search = GridSearchCV(estimator=gb_classifier, param_grid=param_grid, cv=5, scoring='f1')\n",
    "grid_search.fit(X_train_res, y_train_res)\n",
    "\n",
    "print(\"Best Parameters: \", grid_search.best_params_)\n",
    "print(\"Best Score (F1): \", grid_search.best_score_)"
   ]
  },
  {
   "cell_type": "code",
   "execution_count": 45,
   "id": "fe158aa9",
   "metadata": {},
   "outputs": [
    {
     "name": "stdout",
     "output_type": "stream",
     "text": [
      "Accuracy: 0.7402597402597403\n",
      "F1-Score: 0.7421388522853525\n"
     ]
    }
   ],
   "source": [
    "best_params = grid_search.best_params_\n",
    "\n",
    "cls_model = GradientBoostingClassifier(random_state=42, **best_params)\n",
    "\n",
    "cls_model.fit(X_train_res, y_train_res)\n",
    "\n",
    "y_train_pred = model.predict(X_train_res)\n",
    "y_test_pred = cls_model.predict(X_test_scaled)\n",
    "\n",
    "accuracy = accuracy_score(y_test, y_test_pred)\n",
    "f1_test = f1_score(y_test, y_test_pred, average='weighted')\n",
    "\n",
    "print(f\"Accuracy: {accuracy}\")\n",
    "print(f\"F1-Score: {f1_test}\")"
   ]
  },
  {
   "cell_type": "code",
   "execution_count": 48,
   "id": "7243cfe5",
   "metadata": {},
   "outputs": [
    {
     "name": "stdout",
     "output_type": "stream",
     "text": [
      "Confusion Matrix:\n",
      "\n",
      " [[77 22]\n",
      " [18 37]]\n"
     ]
    }
   ],
   "source": [
    "print(f'Confusion Matrix:\\n\\n {confusion_matrix(y_test, y_test_pred)}')"
   ]
  },
  {
   "cell_type": "markdown",
   "id": "b5f3c43b",
   "metadata": {},
   "source": [
    "As we can observe we have done our best to get to this point in short span of time and got close to 75% accuracy and F1-score.\n",
    "\n",
    "**What else can we do to improve the model?**\n",
    "\n",
    "- We can do some feature engineering and extract new features if possible.\n",
    "- We can try out some transformation techniques like power, sqrt or other ones.\n",
    "- We can do some feature selection using correlation matrix."
   ]
  },
  {
   "cell_type": "code",
   "execution_count": 51,
   "id": "b0a90257",
   "metadata": {},
   "outputs": [
    {
     "name": "stdout",
     "output_type": "stream",
     "text": [
      "Number of features with correlation > 0.5: 4\n",
      "Percentage of features with correlation > 0.5: 44.44%\n"
     ]
    }
   ],
   "source": [
    "correlation = df.corr()\n",
    "\n",
    "num_features_greater_than_0_5 = sum((correlation > 0.5).sum() > 1)\n",
    "\n",
    "total_features = len(df.columns)\n",
    "percentage_greater_than_0_5 = (num_features_greater_than_0_5 / total_features) * 100\n",
    "\n",
    "print(f\"Number of features with correlation > 0.5: {num_features_greater_than_0_5}\")\n",
    "print(f\"Percentage of features with correlation > 0.5: {percentage_greater_than_0_5:.2f}%\")"
   ]
  },
  {
   "cell_type": "code",
   "execution_count": 52,
   "id": "ccc31c94",
   "metadata": {},
   "outputs": [
    {
     "data": {
      "text/html": [
       "<div>\n",
       "<style scoped>\n",
       "    .dataframe tbody tr th:only-of-type {\n",
       "        vertical-align: middle;\n",
       "    }\n",
       "\n",
       "    .dataframe tbody tr th {\n",
       "        vertical-align: top;\n",
       "    }\n",
       "\n",
       "    .dataframe thead th {\n",
       "        text-align: right;\n",
       "    }\n",
       "</style>\n",
       "<table border=\"1\" class=\"dataframe\">\n",
       "  <thead>\n",
       "    <tr style=\"text-align: right;\">\n",
       "      <th></th>\n",
       "      <th>Pregnancies</th>\n",
       "      <th>Glucose</th>\n",
       "      <th>BloodPressure</th>\n",
       "      <th>SkinThickness</th>\n",
       "      <th>Insulin</th>\n",
       "      <th>BMI</th>\n",
       "      <th>DiabetesPedigreeFunction</th>\n",
       "      <th>Age</th>\n",
       "      <th>Outcome</th>\n",
       "    </tr>\n",
       "  </thead>\n",
       "  <tbody>\n",
       "    <tr>\n",
       "      <th>Pregnancies</th>\n",
       "      <td>True</td>\n",
       "      <td>False</td>\n",
       "      <td>False</td>\n",
       "      <td>False</td>\n",
       "      <td>False</td>\n",
       "      <td>False</td>\n",
       "      <td>False</td>\n",
       "      <td>True</td>\n",
       "      <td>False</td>\n",
       "    </tr>\n",
       "    <tr>\n",
       "      <th>Glucose</th>\n",
       "      <td>False</td>\n",
       "      <td>True</td>\n",
       "      <td>False</td>\n",
       "      <td>False</td>\n",
       "      <td>False</td>\n",
       "      <td>False</td>\n",
       "      <td>False</td>\n",
       "      <td>False</td>\n",
       "      <td>False</td>\n",
       "    </tr>\n",
       "    <tr>\n",
       "      <th>BloodPressure</th>\n",
       "      <td>False</td>\n",
       "      <td>False</td>\n",
       "      <td>True</td>\n",
       "      <td>False</td>\n",
       "      <td>False</td>\n",
       "      <td>False</td>\n",
       "      <td>False</td>\n",
       "      <td>False</td>\n",
       "      <td>False</td>\n",
       "    </tr>\n",
       "    <tr>\n",
       "      <th>SkinThickness</th>\n",
       "      <td>False</td>\n",
       "      <td>False</td>\n",
       "      <td>False</td>\n",
       "      <td>True</td>\n",
       "      <td>False</td>\n",
       "      <td>True</td>\n",
       "      <td>False</td>\n",
       "      <td>False</td>\n",
       "      <td>False</td>\n",
       "    </tr>\n",
       "    <tr>\n",
       "      <th>Insulin</th>\n",
       "      <td>False</td>\n",
       "      <td>False</td>\n",
       "      <td>False</td>\n",
       "      <td>False</td>\n",
       "      <td>True</td>\n",
       "      <td>False</td>\n",
       "      <td>False</td>\n",
       "      <td>False</td>\n",
       "      <td>False</td>\n",
       "    </tr>\n",
       "    <tr>\n",
       "      <th>BMI</th>\n",
       "      <td>False</td>\n",
       "      <td>False</td>\n",
       "      <td>False</td>\n",
       "      <td>True</td>\n",
       "      <td>False</td>\n",
       "      <td>True</td>\n",
       "      <td>False</td>\n",
       "      <td>False</td>\n",
       "      <td>False</td>\n",
       "    </tr>\n",
       "    <tr>\n",
       "      <th>DiabetesPedigreeFunction</th>\n",
       "      <td>False</td>\n",
       "      <td>False</td>\n",
       "      <td>False</td>\n",
       "      <td>False</td>\n",
       "      <td>False</td>\n",
       "      <td>False</td>\n",
       "      <td>True</td>\n",
       "      <td>False</td>\n",
       "      <td>False</td>\n",
       "    </tr>\n",
       "    <tr>\n",
       "      <th>Age</th>\n",
       "      <td>True</td>\n",
       "      <td>False</td>\n",
       "      <td>False</td>\n",
       "      <td>False</td>\n",
       "      <td>False</td>\n",
       "      <td>False</td>\n",
       "      <td>False</td>\n",
       "      <td>True</td>\n",
       "      <td>False</td>\n",
       "    </tr>\n",
       "    <tr>\n",
       "      <th>Outcome</th>\n",
       "      <td>False</td>\n",
       "      <td>False</td>\n",
       "      <td>False</td>\n",
       "      <td>False</td>\n",
       "      <td>False</td>\n",
       "      <td>False</td>\n",
       "      <td>False</td>\n",
       "      <td>False</td>\n",
       "      <td>True</td>\n",
       "    </tr>\n",
       "  </tbody>\n",
       "</table>\n",
       "</div>"
      ],
      "text/plain": [
       "                          Pregnancies  Glucose  BloodPressure  SkinThickness  \\\n",
       "Pregnancies                      True    False          False          False   \n",
       "Glucose                         False     True          False          False   \n",
       "BloodPressure                   False    False           True          False   \n",
       "SkinThickness                   False    False          False           True   \n",
       "Insulin                         False    False          False          False   \n",
       "BMI                             False    False          False           True   \n",
       "DiabetesPedigreeFunction        False    False          False          False   \n",
       "Age                              True    False          False          False   \n",
       "Outcome                         False    False          False          False   \n",
       "\n",
       "                          Insulin    BMI  DiabetesPedigreeFunction    Age  \\\n",
       "Pregnancies                 False  False                     False   True   \n",
       "Glucose                     False  False                     False  False   \n",
       "BloodPressure               False  False                     False  False   \n",
       "SkinThickness               False   True                     False  False   \n",
       "Insulin                      True  False                     False  False   \n",
       "BMI                         False   True                     False  False   \n",
       "DiabetesPedigreeFunction    False  False                      True  False   \n",
       "Age                         False  False                     False   True   \n",
       "Outcome                     False  False                     False  False   \n",
       "\n",
       "                          Outcome  \n",
       "Pregnancies                 False  \n",
       "Glucose                     False  \n",
       "BloodPressure               False  \n",
       "SkinThickness               False  \n",
       "Insulin                     False  \n",
       "BMI                         False  \n",
       "DiabetesPedigreeFunction    False  \n",
       "Age                         False  \n",
       "Outcome                      True  "
      ]
     },
     "execution_count": 52,
     "metadata": {},
     "output_type": "execute_result"
    }
   ],
   "source": [
    "correlation>0.5"
   ]
  },
  {
   "cell_type": "markdown",
   "id": "1caf19d3",
   "metadata": {},
   "source": [
    "The model might not be getting more accuracy because of the above reason that less no. of features being highly correlated with each other so some data with high correlation could be collected from the source to improve the model..."
   ]
  }
 ],
 "metadata": {
  "kernelspec": {
   "display_name": "Python 3 (ipykernel)",
   "language": "python",
   "name": "python3"
  },
  "language_info": {
   "codemirror_mode": {
    "name": "ipython",
    "version": 3
   },
   "file_extension": ".py",
   "mimetype": "text/x-python",
   "name": "python",
   "nbconvert_exporter": "python",
   "pygments_lexer": "ipython3",
   "version": "3.10.11"
  }
 },
 "nbformat": 4,
 "nbformat_minor": 5
}
